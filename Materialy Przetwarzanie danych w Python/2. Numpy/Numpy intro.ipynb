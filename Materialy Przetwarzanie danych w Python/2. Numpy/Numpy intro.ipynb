{
 "cells": [
  {
   "cell_type": "markdown",
   "metadata": {},
   "source": [
    "![Bluemetrica](../bluemetrica_large.png)"
   ]
  },
  {
   "cell_type": "markdown",
   "metadata": {},
   "source": [
    "# Wpowadzenie do Numpy"
   ]
  },
  {
   "cell_type": "markdown",
   "metadata": {},
   "source": [
    "NumPy, skrót od Numerical Python, podstawowa biblioteka w Pythonie pozwalająca na przeprowadzanie zaawansowanych obliczeń matematycznych. Przydatna zwłaszcza w analizie danych i Machnine Learningu.\n",
    "Podstawowe obiekt z bilioteki:\n",
    "- ndarray - szybsza i zajmująca mniej miejsca alternatywa dla list. Pozwala na przechowywanie wielowymiarowych danych tego samego typu\n",
    "\n",
    "Popularne operacje:\n",
    "\n",
    "- Standardowe operacje matematyczne wykonywane na całych wektorach, bez konieczności pisania petli\n",
    "- Algebra liniowa\n",
    "- Generowanie liczb losowych\n",
    "\n",
    "--------------------------"
   ]
  },
  {
   "cell_type": "markdown",
   "metadata": {},
   "source": [
    "Wczytujemy biblioteki\n",
    "\n",
    "*numpy standardowo wczytujemy jako np*"
   ]
  },
  {
   "cell_type": "code",
   "execution_count": 1,
   "metadata": {},
   "outputs": [],
   "source": [
    "import numpy as np"
   ]
  },
  {
   "cell_type": "markdown",
   "metadata": {},
   "source": [
    "### Arrays"
   ]
  },
  {
   "cell_type": "markdown",
   "metadata": {},
   "source": [
    "Tworzenie `np.array` - wektory, macierze, tablice wielowymiarowe \n",
    "\n",
    "**WAŻNE** - w tablicach (array) wszystkie elementy są tego samego typu - np. wszystkie to float64 lub str"
   ]
  },
  {
   "cell_type": "code",
   "execution_count": null,
   "metadata": {},
   "outputs": [],
   "source": []
  }
 ],
 "metadata": {
  "kernelspec": {
   "display_name": "Python 3",
   "language": "python",
   "name": "python3"
  },
  "language_info": {
   "codemirror_mode": {
    "name": "ipython",
    "version": 3
   },
   "file_extension": ".py",
   "mimetype": "text/x-python",
   "name": "python",
   "nbconvert_exporter": "python",
   "pygments_lexer": "ipython3",
   "version": "3.7.4"
  }
 },
 "nbformat": 4,
 "nbformat_minor": 2
}
