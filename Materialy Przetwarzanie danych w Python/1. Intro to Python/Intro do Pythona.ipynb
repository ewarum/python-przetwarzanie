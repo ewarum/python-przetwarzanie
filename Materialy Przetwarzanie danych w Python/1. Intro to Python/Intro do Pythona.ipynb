{
 "cells": [
  {
   "cell_type": "markdown",
   "metadata": {},
   "source": [
    "![Bluemetrica](../bluemetrica_large.png)"
   ]
  },
  {
   "cell_type": "markdown",
   "metadata": {},
   "source": [
    "# Skrypt wprowadzający\n",
    "- praca z Jupyterem\n",
    "- podstawy składni Markdown\n",
    "- podstawowe obiekty \n",
    "    * Numbers\n",
    "    * Strings\n",
    "    * Lists\n",
    "    * Dictionaries\n",
    "    * Booleans\n",
    "    * Tuples \n",
    "    * Sets"
   ]
  },
  {
   "cell_type": "markdown",
   "metadata": {},
   "source": [
    "---------------------------------------------------\n",
    "## Krótkie wprowadzenie do Jupyter'a\n",
    "\n",
    "iPython magic - magia iPythona"
   ]
  },
  {
   "cell_type": "code",
   "execution_count": 1,
   "metadata": {
    "scrolled": true
   },
   "outputs": [
    {
     "name": "stdout",
     "output_type": "stream",
     "text": [
      "No variables match your requested type.\n"
     ]
    }
   ],
   "source": [
    "%who  # sprawdzam zmienne znajdujące się w pamięci"
   ]
  },
  {
   "cell_type": "markdown",
   "metadata": {},
   "source": [
    "### Skróty klawiszowe\n",
    "\n",
    "- Shift + enter - wykonuje kod, przechodzi do nast. komórki\n",
    "- Ctrl + enter - wykonuje kod i zostaje w tej samej komórce\n",
    "- lewy Alt + Ent  - wykonuje kod i dodaje nową komórkę pod spodem\n",
    "\n",
    "\n",
    "- Ctlr + Shft + - (minus) - dzielenie komórki na dwie\n",
    "\n",
    "\n",
    "- Esc potem d + d - usuwam komórkę\n",
    "- Esc potem m - zamieniam komórkę na Markdown\n",
    "- Esc potem A lub B - dodaję komórkę A z góry, B z dołu \n",
    "\n",
    "\n",
    "- Shift + Tab na funkcji - pomoc"
   ]
  },
  {
   "cell_type": "markdown",
   "metadata": {},
   "source": [
    "### Kilka przykładów Markdown - kliknij dwa razy w komórkę, żeby obejrzeć składnię\n",
    "\n",
    "Esc + M i Teraz bedzie tutaj tekst markdown\n",
    "\n",
    "*italics* \n",
    "**bold**\n",
    "_to samo_\n",
    "__to samo__\n",
    "\n",
    "_pomieszanie **stylu**_\n",
    "\n",
    "# Nagłówek\n",
    "\n",
    "## Nagłówek 2\n",
    "--------\n",
    "\n",
    "### Nagłówek 3\n",
    "\n",
    "______\n",
    "\n",
    "Wygląd kodu `np.mean([1,2,3,4])`\n",
    "Równania jak w LaTeXie piszemy korzystając ze znaku \\$ tu równanie \\$, przykład: $2+2 = 4$\n",
    "\n",
    "Równanie w nowej linijce:\n",
    "$$ \\frac{m}{x^2} $$"
   ]
  },
  {
   "cell_type": "markdown",
   "metadata": {},
   "source": [
    "-----------------------------------\n",
    "# Podstawowe obiekty\n",
    "\n",
    "Python jako kalkulator:"
   ]
  },
  {
   "cell_type": "code",
   "execution_count": 2,
   "metadata": {},
   "outputs": [
    {
     "data": {
      "text/plain": [
       "4"
      ]
     },
     "execution_count": 2,
     "metadata": {},
     "output_type": "execute_result"
    }
   ],
   "source": [
    "2+2 # shift + enter - wykonuje kod i przechodzi do nast. komórki"
   ]
  }
 ],
 "metadata": {
  "kernelspec": {
   "display_name": "Python 3",
   "language": "python",
   "name": "python3"
  },
  "language_info": {
   "codemirror_mode": {
    "name": "ipython",
    "version": 3
   },
   "file_extension": ".py",
   "mimetype": "text/x-python",
   "name": "python",
   "nbconvert_exporter": "python",
   "pygments_lexer": "ipython3",
   "version": "3.7.4"
  }
 },
 "nbformat": 4,
 "nbformat_minor": 2
}
