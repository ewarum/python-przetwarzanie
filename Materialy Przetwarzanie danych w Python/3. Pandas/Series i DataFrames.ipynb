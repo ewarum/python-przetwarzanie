{
 "cells": [
  {
   "cell_type": "markdown",
   "metadata": {},
   "source": [
    "![Bluemetrica](../bluemetrica_large.png)\n",
    "\n",
    "# Pandas"
   ]
  },
  {
   "cell_type": "code",
   "execution_count": 1,
   "metadata": {},
   "outputs": [],
   "source": [
    "import numpy as np    # algebra liniowa\n",
    "import pandas as pd   # przetwarzanie danych"
   ]
  },
  {
   "cell_type": "markdown",
   "metadata": {},
   "source": [
    "## Series\n",
    "\n",
    "Podstawowy obiekt danych w Pandas. Series to wektor danych jednego typu, do którego dołączony jest index (nazwa lub numer obserwacji). Wiele serii (Series) razem tworzą DataFrame.\n",
    "\n",
    "Series to obiekt podobny to np.array(), ale dodatkowo pozwalający nam na przechowywanie informacji o nazwie indeksu. Możemy sie do obiektu series odwoływac zarówno za pomocą indeksu liczbowego jak ma to miejsce w przypadku np.array() oraz nazw etykiet jak np. w słownikach (dictionary).\n",
    "\n",
    "**Tworzymy series**\n",
    "Series możemy stworzyć przekształcając array, listę, krotkę lub słownik"
   ]
  },
  {
   "cell_type": "markdown",
   "metadata": {},
   "source": [
    "## DataFrames\n",
    "\n",
    "Kilka kolumn (Series) złożone w jedną wg. wspólnego indeksu tworzą DataFrame"
   ]
  },
  {
   "cell_type": "code",
   "execution_count": 2,
   "metadata": {},
   "outputs": [],
   "source": [
    "df = pd.DataFrame({'imie':[\"Janusz\", \"Grażyna\", \"Bozydar\"], 'wiek':[50,45,18], 'zwierze':[\"kot\", \"kot\", \"pies\"]})"
   ]
  },
  {
   "cell_type": "code",
   "execution_count": null,
   "metadata": {},
   "outputs": [],
   "source": []
  }
 ],
 "metadata": {
  "kernelspec": {
   "display_name": "Python 3",
   "language": "python",
   "name": "python3"
  },
  "language_info": {
   "codemirror_mode": {
    "name": "ipython",
    "version": 3
   },
   "file_extension": ".py",
   "mimetype": "text/x-python",
   "name": "python",
   "nbconvert_exporter": "python",
   "pygments_lexer": "ipython3",
   "version": "3.7.4"
  }
 },
 "nbformat": 4,
 "nbformat_minor": 2
}
